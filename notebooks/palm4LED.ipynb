{
 "cells": [
  {
   "cell_type": "markdown",
   "metadata": {},
   "source": [
    "# Implementation palm4LED\n",
    "\n",
    "Magoarou, L. L., & Gribonval, R. (2014). Learning computationally efficient dictionaries and their implementation as fast transforms. arXiv preprint arXiv:1406.5388."
   ]
  },
  {
   "cell_type": "markdown",
   "metadata": {},
   "source": [
    "## Global imports"
   ]
  },
  {
   "cell_type": "code",
   "execution_count": null,
   "metadata": {},
   "outputs": [],
   "source": [
    "import numpy as np\n",
    "from numpy.linalg import norm\n",
    "from numpy import trace\n",
    "from numpy import identity\n",
    "from numpy import argpartition\n",
    "from numpy.linalg import multi_dot\n",
    "from scipy.linalg import hadamard\n",
    "from copy import deepcopy\n",
    "\n",
    "import matplotlib.pyplot as plt\n",
    "%matplotlib inline"
   ]
  },
  {
   "cell_type": "markdown",
   "metadata": {},
   "source": [
    "## Util Functions"
   ]
  },
  {
   "cell_type": "code",
   "execution_count": null,
   "metadata": {},
   "outputs": [],
   "source": [
    "def projection_operator(input_arr, nb_keep_values):\n",
    "    \"\"\"\n",
    "    Project input_arr onto its nb_keep_values highest values\n",
    "    \"\"\"\n",
    "    flat_input_arr = input_arr.flatten()\n",
    "    # find the index of the lowest values (not the _nb_keep_values highest)\n",
    "    lowest_values_idx = argpartition(np.absolute(flat_input_arr), -nb_keep_values, axis=None)[:-nb_keep_values]\n",
    "    # set the value of the lowest values to zero\n",
    "    flat_input_arr[lowest_values_idx] = 0.\n",
    "    # return reshape_to_matrix\n",
    "    return flat_input_arr.reshape(input_arr.shape)\n",
    "\n",
    "def inplace_hardthreshold(input_arr, nb_keep_values):\n",
    "    \"\"\"\n",
    "    Hard-threshold input_arr by keeping its nb_keep_values highest values only\n",
    "    Variant without copy of input_arr (inplace changes)\n",
    "    \"\"\"\n",
    "    # find the index of the lowest values (not the _nb_keep_values highest)\n",
    "    lowest_values_idx = argpartition(np.absolute(input_arr), -nb_keep_values, axis=None)[:-nb_keep_values]\n",
    "    # set the value of the lowest values to zero\n",
    "    input_arr.reshape(-1)[lowest_values_idx] = 0"
   ]
  },
  {
   "cell_type": "code",
   "execution_count": null,
   "metadata": {},
   "outputs": [],
   "source": [
    "def get_side_prod(lst_factors, id_size=0):\n",
    "    \"\"\"\n",
    "    Return the dot product between factors in lst_factors in order.\n",
    "\n",
    "    exemple:\n",
    "\n",
    "    lst_factors := [S1, S2, S3]\n",
    "    return_value:= S1 @ S2 @ S3\n",
    "    \"\"\"\n",
    "    # assert if the inner dimension of factors match: e.g. the multi dot product is feasible\n",
    "    assert all([lst_factors[i].shape[-1] == lst_factors[i+1].shape[0] for i in range(len(lst_factors)-1)])\n",
    "\n",
    "    if len(lst_factors) == 0:\n",
    "        # convention from the paper itself: dot product of no factors equal Identity\n",
    "        side_prod = identity(id_size)\n",
    "    elif len(lst_factors) == 1:\n",
    "        # if only 1 elm, return the elm itself (Identity * elm actually)\n",
    "        side_prod = lst_factors[0]\n",
    "    else:\n",
    "        side_prod = multi_dot(lst_factors)\n",
    "    return side_prod"
   ]
  },
  {
   "cell_type": "markdown",
   "metadata": {},
   "source": [
    "## Core functions"
   ]
  },
  {
   "cell_type": "code",
   "execution_count": null,
   "metadata": {},
   "outputs": [],
   "source": [
    "def PALM4MSA(arr_X_target: np.array, \n",
    "             lst_S_init: list,\n",
    "             nb_factors: int, \n",
    "             lst_nb_keep_values: list, \n",
    "             f_lambda_init: float, \n",
    "             nb_iter: int):\n",
    "    \n",
    "    \"\"\"\n",
    "    lst S init contains factors in decreasing indexes: S5 S4 S3 S2 S1\n",
    "    \n",
    "    lst S [-j] = Sj\n",
    "    \n",
    "    \"\"\"\n",
    "    \n",
    "    def update_S(S_old, _left_side, _right_side, _c, _lambda, _nb_keep_values):\n",
    "        \"\"\"\n",
    "        Return the new factor value.\n",
    "        \n",
    "        - Compute gradient\n",
    "        - Do gradient step\n",
    "        - Project data on _nb_keep_values highest entries\n",
    "        - Normalize data\n",
    "        \"\"\"\n",
    "        # compute gradient of the distance metric (with 1/_c gradient step size)\n",
    "        grad_step =  1./_c * _lambda * _left_side.T @ ((_lambda * _left_side @ S_old @ _right_side) - arr_X_target) @ _right_side.T\n",
    "        \n",
    "        # grad_step[np.abs(grad_step) < np.finfo(float).eps] = 0.\n",
    "        # 1 step for minimizing + flatten necessary for the upcoming projection\n",
    "        S_tmp = S_old - grad_step\n",
    "        # projection\n",
    "        # S_proj = projection_operator(S_tmp, _nb_keep_values)\n",
    "        inplace_hardthreshold(S_tmp, _nb_keep_values)\n",
    "        # normalize because all factors must have norm 1\n",
    "        S_proj = S_tmp\n",
    "        S_proj = S_proj / norm(S_proj)\n",
    "        return S_proj\n",
    "        \n",
    "    assert len(lst_S_init) > 0\n",
    "    assert get_side_prod(lst_S_init).shape == arr_X_target.shape\n",
    "    assert len(lst_S_init) == nb_factors\n",
    "    # initialization\n",
    "    f_lambda = f_lambda_init\n",
    "    lst_S = deepcopy(lst_S_init)\n",
    "    \n",
    "    # main loop\n",
    "    for i_iter in range(nb_iter):\n",
    "        for j in range(1, nb_factors+1):\n",
    "            #left_side = get_side_prod(lst_S[:j], arr_X_target.shape[0]) # L = products of all yet updated factors during this iter\n",
    "            #right_side = get_side_prod(lst_S[j+1:], arr_X_target.shape[0]) # R = products of all not yet updated factors\n",
    "            \n",
    "            left_side = get_side_prod(lst_S[:-j], arr_X_target.shape[0]) # L\n",
    "            right_side = get_side_prod(lst_S[nb_factors-j+1:], arr_X_target.shape[0]) # R\n",
    "            \n",
    "            # compute minimum c value (according to paper)\n",
    "            min_c_value = (f_lambda * norm(right_side, ord=2) * norm(left_side, ord=2)) ** 2\n",
    "            # add epsilon because it is exclusive minimum\n",
    "            #c = min_c_value * (1+np.finfo(float).eps)\n",
    "            c = min_c_value * 1.00001\n",
    "            #c = min_c_value + 1\n",
    "            \n",
    "            # compute new factor value\n",
    "            lst_S[-j] = update_S(lst_S[-j], left_side, right_side, c, f_lambda, lst_nb_keep_values[-j])\n",
    "\n",
    "        # re-compute the full factorisation\n",
    "        if len(lst_S) == 1:\n",
    "            arr_X_curr = lst_S[0]\n",
    "        else:\n",
    "            arr_X_curr = multi_dot(lst_S)\n",
    "        # update lambda\n",
    "        f_lambda = trace(arr_X_target.T @ arr_X_curr) / trace(arr_X_curr.T @ arr_X_curr)\n",
    "\n",
    "    return f_lambda, lst_S, arr_X_curr"
   ]
  },
  {
   "cell_type": "code",
   "execution_count": null,
   "metadata": {},
   "outputs": [],
   "source": [
    "def HierarchicalPALM4MSA(arr_X_target: np.array, \n",
    "                         lst_S_init: list, \n",
    "                         nb_keep_values: int, \n",
    "                         f_lambda_init: float, \n",
    "                         nb_iter: int,\n",
    "                        left_to_right=True):\n",
    "    \n",
    "    # initialisation\n",
    "    if left_to_right:\n",
    "        arr_residual = arr_X_target\n",
    "    else:\n",
    "        arr_residual = arr_X_target.T\n",
    "        lst_S_init = [S.T for S in lst_S_init[::-1]]\n",
    "        \n",
    "    lst_S = deepcopy(lst_S_init)\n",
    "    nb_factors = len(lst_S)\n",
    "    \n",
    "    \n",
    "    # main loop\n",
    "    for k in range(nb_factors-1):\n",
    "        nb_factors_so_far = k+1\n",
    "        print(\"working on factor:\", k)\n",
    "        # define constraints: ||0 = d pour T1; no constraint on ||0 for T2\n",
    "        lst_nb_keep_values_constraints = [nb_keep_values, lst_S_init[k+1].shape[0]*lst_S_init[k].shape[1]]\n",
    "        # calcule decomposition en 2 du dernier résidu de l'opération précédente\n",
    "        f_lambda_prime, (T1, T2), _ = PALM4MSA(arr_residual, \n",
    "                                               lst_S_init[k:k+2],\n",
    "                                               2,\n",
    "                                               lst_nb_keep_values_constraints, \n",
    "                                               f_lambda_init, \n",
    "                                               nb_iter)\n",
    "        print(\"final:\")\n",
    "        plt.imshow(f_lambda_prime * T1)\n",
    "        plt.show()\n",
    "        print(\"T2:\")\n",
    "        plt.imshow(T2)\n",
    "        plt.show()\n",
    "        lst_S[k] = f_lambda_prime * T1\n",
    "        print(\"T1T2:\")\n",
    "        plt.imshow(f_lambda_prime * (T1 @ T2))\n",
    "        plt.show()\n",
    "        # arr_residual = T2\n",
    "        # get the k first elements [:k+1] and the next one (k+1)th as arr_residual\n",
    "        f_lambda, [*lst_S[:nb_factors_so_far], arr_residual], _ = PALM4MSA(arr_X_target, \n",
    "                                                     lst_S[:nb_factors_so_far] + [T2],\n",
    "                                                     nb_factors_so_far + 1,\n",
    "                                                     [nb_keep_values for _ in range(nb_factors_so_far)] + [lst_S_init[k].shape[0]*lst_S_init[k].shape[1]],\n",
    "                                                     f_lambda_init, \n",
    "                                                     nb_iter )\n",
    "        #arr_residual = lst_S[k+1]\n",
    "        #arr_residual = T2\n",
    "\n",
    "        #HERE THE PRITNED RESIDUAL IS NOT NORMAL!!!!!!\n",
    "        # CHECK THAT IT IS SPARSE AND IT SHOULDNT CHECK IF THE RESIDUAL IS PROPER ????????\n",
    "        print(\"residual\")\n",
    "        plt.imshow(arr_residual)\n",
    "        plt.show()\n",
    "#         print(f_lambda_prime)\n",
    "    # last factor is residual of last palm4LED\n",
    "    lst_S[-1] = projection_operator(arr_residual, nb_keep_values)\n",
    "    if not left_to_right:\n",
    "        lst_S = [S.T for S in lst_S[::-1]]\n",
    "        \n",
    "    if len(lst_S) == 1:\n",
    "        arr_X_curr = lst_S[0]\n",
    "    else:\n",
    "        arr_X_curr = f_lambda * multi_dot(lst_S)\n",
    "\n",
    "    return f_lambda, lst_S, arr_X_curr"
   ]
  },
  {
   "cell_type": "markdown",
   "metadata": {},
   "source": [
    "## Test functions"
   ]
  },
  {
   "cell_type": "code",
   "execution_count": null,
   "metadata": {},
   "outputs": [],
   "source": [
    "def test_projection_operator():\n",
    "    matrix = np.random.permutation(16).reshape(4, 4)\n",
    "    print(matrix)\n",
    "    matrix_proj = projection_operator(matrix, 4)\n",
    "    print(matrix_proj)\n",
    "test_projection_operator()\n",
    "\n",
    "def test_inplace_hardthreshold():\n",
    "    matrix = np.random.permutation(16).reshape(4, 4)\n",
    "    print(matrix)\n",
    "    inplace_hardthreshold(matrix, 4)\n",
    "    print(matrix)\n",
    "test_inplace_hardthreshold()\n"
   ]
  },
  {
   "cell_type": "code",
   "execution_count": null,
   "metadata": {},
   "outputs": [],
   "source": [
    "def visual_evaluation_palm4msa(target, init_factors, final_factors, result):\n",
    "    nb_factors = len(init_factors)\n",
    "    plt.subplot(3, 2, 1)\n",
    "    plt.imshow(target)\n",
    "    plt.subplot(3, 2, 2)\n",
    "    plt.imshow(result)\n",
    "    print(\"Première ligne: Objectif \\t | \\t Résultat\")\n",
    "    print(\"Deuxième ligne: Les facteurs\")\n",
    "    print(\"Troisième ligne: Les facteurs initiaux\")\n",
    "    for i in range(nb_factors):\n",
    "        plt.subplot(3, nb_factors, nb_factors + (i+1))\n",
    "        plt.imshow(final_factors[i])\n",
    "        plt.subplot(3, nb_factors, nb_factors + nb_factors + (i+1))\n",
    "        plt.imshow(init_factors[i])"
   ]
  },
  {
   "cell_type": "markdown",
   "metadata": {},
   "source": [
    "## Tests"
   ]
  },
  {
   "cell_type": "markdown",
   "metadata": {},
   "source": [
    "### Hadamard matrix"
   ]
  },
  {
   "cell_type": "code",
   "execution_count": null,
   "metadata": {
    "scrolled": true
   },
   "outputs": [],
   "source": [
    "d = 32\n",
    "nb_iter = 5\n",
    "nb_factors = 5\n",
    "nb_keep_values = 128\n",
    "\n",
    "lst_factors = [projection_operator(np.random.rand(d, d), nb_keep_values) for _ in range(nb_factors)]\n",
    "#lst_factors = [np.random.rand(d, d) for _ in range(nb_factors)]\n",
    "lst_factors = [fac/norm(fac) for fac in lst_factors]\n",
    "_lambda = 1.\n",
    "H = hadamard(d)\n",
    "\n",
    "#final_lambda, final_factors, final_X = PALM4LED(H, lst_factors, [nb_keep_values for _ in range(nb_factors)], _lambda, nb_iter)\n",
    "final_lambda, final_factors, final_X = HierarchicalPALM4MSA(H, lst_factors, nb_keep_values, _lambda, nb_iter, left_to_right=False)"
   ]
  },
  {
   "cell_type": "code",
   "execution_count": null,
   "metadata": {},
   "outputs": [],
   "source": [
    "print(\"Lambda value: \" + str(final_lambda))\n",
    "visual_evaluation_palm4msa(H, lst_factors, final_factors, final_X)"
   ]
  },
  {
   "cell_type": "markdown",
   "metadata": {},
   "source": [
    "### Pre-constructed sparse factorization\n",
    "\n",
    "Some sparse matrices are sampled randomly then their product is computed and considered as ground truth.\n",
    "The Hirerarchical PALM4LED algorithm is called with the real sparse matrices for initialisaiton of the factors.\n",
    "We check if the algorithm tries to find an other solution or stick to the initial matrices."
   ]
  },
  {
   "cell_type": "code",
   "execution_count": null,
   "metadata": {},
   "outputs": [],
   "source": [
    "d = 32\n",
    "nb_iter = 50\n",
    "nb_factors = 5\n",
    "nb_keep_values = 32\n",
    "\n",
    "lst_factors = [projection_operator(np.random.rand(d, d), nb_keep_values) for _ in range(nb_factors)]\n",
    "#lst_factors = [np.random.rand(d, d) for _ in range(nb_factors)]\n",
    "lst_factors = [fac/norm(fac) for fac in lst_factors]\n",
    "_lambda = 1.\n",
    "rebuilt_target = multi_dot(lst_factors)\n",
    "\n",
    "#final_lambda, final_factors, final_X = PALM4LED(H, lst_factors, [nb_keep_values for _ in range(nb_factors)], _lambda, nb_iter)\n",
    "final_lambda, final_factors, final_X = HierarchicalPALM4MSA(rebuilt_target, lst_factors, nb_keep_values, _lambda, nb_iter, left_to_right=False)"
   ]
  },
  {
   "cell_type": "code",
   "execution_count": null,
   "metadata": {},
   "outputs": [],
   "source": [
    "print(\"Lambda value: \" + str(final_lambda))\n",
    "visual_evaluation_palm4msa(rebuilt_target, lst_factors, final_factors, final_X)"
   ]
  },
  {
   "cell_type": "code",
   "execution_count": null,
   "metadata": {},
   "outputs": [],
   "source": []
  }
 ],
 "metadata": {
  "kernelspec": {
   "display_name": "Python 3",
   "language": "python",
   "name": "python3"
  },
  "language_info": {
   "codemirror_mode": {
    "name": "ipython",
    "version": 3
   },
   "file_extension": ".py",
   "mimetype": "text/x-python",
   "name": "python",
   "nbconvert_exporter": "python",
   "pygments_lexer": "ipython3",
   "version": "3.6.7"
  }
 },
 "nbformat": 4,
 "nbformat_minor": 2
}

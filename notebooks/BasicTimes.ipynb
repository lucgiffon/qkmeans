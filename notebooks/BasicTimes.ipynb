{
 "cells": [
  {
   "cell_type": "markdown",
   "metadata": {},
   "source": [
    "In this notebook, dense array and scipy sparse matrices constructor, basic methods and conversion are compared in terms of running times. Conclusions are:\n",
    "\n",
    "* converting an ndarray to a sparse matrix (and back) is time consuming (160 ms and 20 ms), to be avoided\n",
    "* csr-to-coo and coo-to-csr conversions are not time consuming (130-200 µs), but still may be avoided\n",
    "* csr-to-csr conversion is not time consuming (25-75 µs), but still more than checking if an array is an instance of csr (130 ns)\n",
    "* transpose, conjugate and adjoint of a sparse matrix are not time consuming (50-200 µs) but one may still save time by storing them"
   ]
  },
  {
   "cell_type": "code",
   "execution_count": null,
   "metadata": {
    "collapsed": true
   },
   "outputs": [],
   "source": [
    "%load_ext autoreload\n",
    "%autoreload 2\n",
    "%matplotlib inline"
   ]
  },
  {
   "cell_type": "code",
   "execution_count": null,
   "metadata": {
    "collapsed": true
   },
   "outputs": [],
   "source": [
    "import numpy as np\n",
    "from numpy.linalg import norm\n",
    "from numpy import trace\n",
    "from numpy import identity\n",
    "from numpy import argpartition\n",
    "from numpy.linalg import multi_dot\n",
    "from scipy.linalg import hadamard\n",
    "from copy import deepcopy\n",
    "from scipy.sparse import csr_matrix, coo_matrix, csc_matrix\n",
    "from numpy.random import permutation\n",
    "\n",
    "import matplotlib.pyplot as plt"
   ]
  },
  {
   "cell_type": "code",
   "execution_count": null,
   "metadata": {
    "collapsed": true
   },
   "outputs": [],
   "source": [
    "def get_data(shape=(1024, 1024), n_nonzeros=None):\n",
    "    size = np.product(shape)\n",
    "    if n_nonzeros is None:\n",
    "        n_nonzeros = int(np.sqrt(size)) * 2\n",
    "    I_nonzero = permutation(size)[:n_nonzeros]\n",
    "    A = np.zeros(shape, dtype=complex)\n",
    "    A.flat[I_nonzero] = np.random.randn(n_nonzeros) + 1j * np.random.randn(n_nonzeros)\n",
    "    return A"
   ]
  },
  {
   "cell_type": "code",
   "execution_count": null,
   "metadata": {},
   "outputs": [],
   "source": [
    "A_ndarray = get_data(shape=(10, 3))\n",
    "print(A_ndarray)"
   ]
  },
  {
   "cell_type": "code",
   "execution_count": null,
   "metadata": {
    "collapsed": true
   },
   "outputs": [],
   "source": [
    "A_shape = (4096, 4096)\n",
    "A_ndarray = get_data(shape=A_shape)\n",
    "A_csr = csr_matrix(A_ndarray)\n",
    "A_coo = coo_matrix(A_ndarray)"
   ]
  },
  {
   "cell_type": "code",
   "execution_count": null,
   "metadata": {},
   "outputs": [],
   "source": [
    "print('ndarray to csr:')\n",
    "%timeit csr_matrix(A_ndarray)\n",
    "print('ndarray to coo:')\n",
    "%timeit coo_matrix(A_ndarray)\n",
    "print('csr to ndarray:')\n",
    "%timeit A_csr.toarray()\n",
    "print('coo to ndarray:')\n",
    "%timeit A_coo.toarray()\n",
    "\n",
    "print('csr to csr:')\n",
    "%timeit csr_matrix(A_csr)\n",
    "print('coo to coo:')\n",
    "%timeit coo_matrix(A_coo)\n",
    "print('csr to coo:')\n",
    "%timeit csr_matrix(A_coo)\n",
    "%timeit A_coo.tocsr()\n",
    "print('coo to csr:')\n",
    "%timeit coo_matrix(A_csr)\n",
    "%timeit A_csr.tocoo()\n"
   ]
  },
  {
   "cell_type": "code",
   "execution_count": null,
   "metadata": {},
   "outputs": [],
   "source": [
    "print('transpose ndarray:')\n",
    "%timeit A_ndarray.T\n",
    "%timeit np.transpose(A_ndarray)\n",
    "print('transpose csr:')\n",
    "%timeit A_csr.transpose()\n",
    "print('transpose coo:')\n",
    "%timeit A_coo.transpose()\n",
    "print('conjugate ndarray:')\n",
    "%timeit np.conjugate(A_ndarray)\n",
    "print('conjugate csr:')\n",
    "%timeit A_csr.conjugate()\n",
    "print('conjugate coo:')\n",
    "%timeit A_coo.conjugate()\n",
    "print('Adjoint ndarray:')\n",
    "%timeit np.conjugate(A_ndarray.T)\n",
    "print('Adjoint csr:')\n",
    "%timeit A_csr.getH()\n",
    "print('Adjoint coo:')\n",
    "%timeit A_coo.getH()"
   ]
  },
  {
   "cell_type": "code",
   "execution_count": null,
   "metadata": {},
   "outputs": [],
   "source": [
    "%timeit isinstance(A_ndarray, csr_matrix)\n",
    "%timeit isinstance(A_csr, csr_matrix)"
   ]
  },
  {
   "cell_type": "markdown",
   "metadata": {},
   "source": [
    "# Left product"
   ]
  },
  {
   "cell_type": "code",
   "execution_count": null,
   "metadata": {
    "collapsed": true
   },
   "outputs": [],
   "source": [
    "A_shape = (4096, 4096)\n",
    "A_ndarray = get_data(shape=A_shape)\n",
    "A_csr = csr_matrix(A_ndarray)\n",
    "A_coo = coo_matrix(A_ndarray)\n",
    "A_csc = csc_matrix(A_ndarray)\n",
    "x = np.random.randn(*A_shape)"
   ]
  },
  {
   "cell_type": "code",
   "execution_count": null,
   "metadata": {},
   "outputs": [],
   "source": [
    "%timeit A_csr.dot(x)\n",
    "%timeit A_coo.dot(x)\n",
    "%timeit A_csc.dot(x)\n"
   ]
  },
  {
   "cell_type": "markdown",
   "metadata": {},
   "source": [
    "# Right product\n",
    "Not straightforward to multiply to the right x @ M efficiently where M is sparse"
   ]
  },
  {
   "cell_type": "code",
   "execution_count": null,
   "metadata": {},
   "outputs": [],
   "source": [
    "A_shape = (4096, 4096)\n",
    "A_ndarray = get_data(shape=A_shape)\n",
    "A_csr = csr_matrix(A_ndarray)\n",
    "A_coo = coo_matrix(A_ndarray)\n",
    "A_csc = csc_matrix(A_ndarray)\n",
    "x = np.random.randn(*A_shape)"
   ]
  },
  {
   "cell_type": "code",
   "execution_count": null,
   "metadata": {},
   "outputs": [],
   "source": [
    "A_csr_T = A_csr.transpose()\n",
    "x_T = x.T\n",
    "%timeit A_csr_T.dot(x_T)\n",
    "%timeit A_csr.transpose().dot(x.T).T \n",
    "%timeit csc_matrix.dot(x, A_csc)\n",
    "%timeit csr_matrix.dot(x, A_csr)\n",
    "%timeit coo_matrix.dot(x, A_coo)\n"
   ]
  },
  {
   "cell_type": "markdown",
   "metadata": {
    "collapsed": true
   },
   "source": [
    "# Running times for ```SparseFactors``` creation"
   ]
  },
  {
   "cell_type": "code",
   "execution_count": null,
   "metadata": {
    "collapsed": true
   },
   "outputs": [],
   "source": [
    "from pyqalm.data_structures import SparseFactors"
   ]
  },
  {
   "cell_type": "code",
   "execution_count": null,
   "metadata": {},
   "outputs": [],
   "source": [
    "S_shape = (4096, 4096)\n",
    "n_factors = 5\n",
    "S_list = [np.abs(get_data(shape=S_shape)) for _ in range(n_factors)]"
   ]
  },
  {
   "cell_type": "code",
   "execution_count": null,
   "metadata": {},
   "outputs": [],
   "source": [
    "print('Time to create a SparseFactors from ndarrays')\n",
    "t = %timeit -o SparseFactors(S_list)\n",
    "t_ndarray = t.average\n",
    "\n",
    "print('Time to create a SparseFactors from sparse matrices')\n",
    "S = SparseFactors(S_list)\n",
    "t = %timeit -o SparseFactors(S.get_list_of_factors())\n",
    "t_sparse = t.average\n",
    "\n",
    "print('Speed gain:', t_ndarray / t_sparse)\n",
    "\n",
    "print('Time to create a SparseFactors from sparse matrices')\n",
    "t = %timeit -o S._adjoint()\n"
   ]
  },
  {
   "cell_type": "code",
   "execution_count": null,
   "metadata": {},
   "outputs": [],
   "source": [
    "x = np.random.randn(S_shape[1])\n",
    "\n",
    "print('Time to apply L')\n",
    "t_L = np.zeros(n_factors+1)\n",
    "for i in range(n_factors+1):\n",
    "    t = %timeit -o S.apply_L(X=x, n_factors=i)\n",
    "    t_L[i] = t.average\n",
    "\n",
    "print('Time to apply L.H')\n",
    "t_LH = np.zeros(n_factors+1)\n",
    "for i in range(n_factors+1):\n",
    "    t = %timeit -o S.apply_LH(X=x, n_factors=i)\n",
    "    t_LH[i] = t.average\n",
    "    print('ratio:', t_LH[i] / t_L[i])\n",
    "\n",
    "print('Time to apply R')\n",
    "t_R = np.zeros(n_factors+1)\n",
    "for i in range(n_factors+1):\n",
    "    t = %timeit -o S.apply_R(X=x, n_factors=i)\n",
    "    t_R[i] = t.average\n",
    "\n",
    "print('Time to apply R.H')\n",
    "t_RH = np.zeros(n_factors+1)\n",
    "for i in range(n_factors+1):\n",
    "    t = %timeit -o S.apply_RH(X=x, n_factors=i)\n",
    "    t_RH[i] = t.average\n",
    "    print('ratio:',  t_RH[i] / t_R[i])\n"
   ]
  },
  {
   "cell_type": "code",
   "execution_count": null,
   "metadata": {
    "collapsed": true
   },
   "outputs": [],
   "source": []
  }
 ],
 "metadata": {
  "kernelspec": {
   "display_name": "Python 3",
   "language": "python",
   "name": "python3"
  },
  "language_info": {
   "codemirror_mode": {
    "name": "ipython",
    "version": 3
   },
   "file_extension": ".py",
   "mimetype": "text/x-python",
   "name": "python",
   "nbconvert_exporter": "python",
   "pygments_lexer": "ipython3",
   "version": "3.6.2"
  }
 },
 "nbformat": 4,
 "nbformat_minor": 2
}

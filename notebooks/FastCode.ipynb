{
 "cells": [
  {
   "cell_type": "code",
   "execution_count": null,
   "metadata": {
    "collapsed": true
   },
   "outputs": [],
   "source": [
    "%load_ext autoreload\n",
    "%autoreload 2\n",
    "%matplotlib inline"
   ]
  },
  {
   "cell_type": "code",
   "execution_count": null,
   "metadata": {
    "collapsed": true
   },
   "outputs": [],
   "source": [
    "import numpy as np\n",
    "from numpy.linalg import norm\n",
    "from numpy import trace\n",
    "from numpy import identity\n",
    "from numpy import argpartition\n",
    "from numpy.linalg import multi_dot\n",
    "from scipy.linalg import hadamard\n",
    "from copy import deepcopy\n",
    "\n",
    "import matplotlib.pyplot as plt"
   ]
  },
  {
   "cell_type": "code",
   "execution_count": null,
   "metadata": {
    "collapsed": true
   },
   "outputs": [],
   "source": [
    "from pyqalm.data_structures import SparseFactors\n",
    "from pyqalm.qalm import palm4msa\n",
    "from pyqalm.qalm_fast import palm4msa_fast1, palm4msa_fast2, palm4msa_fast3"
   ]
  },
  {
   "cell_type": "code",
   "execution_count": null,
   "metadata": {
    "collapsed": true
   },
   "outputs": [],
   "source": [
    "def get_data(small_dim=2**10, large_dim=2**11, n_nonzeros_small=None, n_nonzeros_large=None):\n",
    "    if n_nonzeros_small is None:\n",
    "        n_nonzeros_small = 2*small_dim\n",
    "    if n_nonzeros_large is None:\n",
    "        n_nonzeros_large = 2*large_dim\n",
    "    n_factors = int(np.log2(small_dim))\n",
    "    A = []\n",
    "    for _ in range(n_factors - 1):\n",
    "        A.append(np.zeros((small_dim, small_dim)))\n",
    "        A[-1].flat[np.random.choice(small_dim**2, size=n_nonzeros_small)] = np.random.randn(n_nonzeros_small)\n",
    "    A += [np.zeros((small_dim, large_dim))]\n",
    "    A[-1].flat[np.random.choice(small_dim * large_dim, size=n_nonzeros_large)] = np.random.randn(n_nonzeros_large)\n",
    "    P = np.linalg.multi_dot(A)\n",
    "    S = SparseFactors(A)\n",
    "    return A, P, S"
   ]
  },
  {
   "cell_type": "markdown",
   "metadata": {},
   "source": [
    "# Execution time for computing a matrix-vector product"
   ]
  },
  {
   "cell_type": "code",
   "execution_count": null,
   "metadata": {
    "collapsed": true
   },
   "outputs": [],
   "source": [
    "print('Execution time for computing a matrix-vector product (square case)')\n",
    "lst_small_dim = 2**np.arange(8, 13)\n",
    "times = np.empty((len(lst_small_dim), 4))\n",
    "for i, small_dim in enumerate(lst_small_dim):\n",
    "    large_dim = small_dim\n",
    "    print('Dimension:', small_dim, large_dim)\n",
    "    A, P, S = get_data(small_dim=small_dim, \n",
    "                       large_dim=large_dim, \n",
    "                       n_nonzeros_small=2*small_dim, \n",
    "                       n_nonzeros_large=2*large_dim)\n",
    "    x = np.random.randn(large_dim)\n",
    "    t = %timeit -o y = P @ x\n",
    "    times[i, 0] = t.average\n",
    "    t = %timeit -o y = S(x)\n",
    "    times[i, 1] = t.average\n",
    "    t = %timeit -o y = S @ x\n",
    "    times[i, 2] = t.average\n",
    "    t = %timeit -o y = S.matvec(x)\n",
    "    times[i, 3] = t.average"
   ]
  },
  {
   "cell_type": "code",
   "execution_count": null,
   "metadata": {
    "collapsed": true
   },
   "outputs": [],
   "source": [
    "plt.loglog(lst_small_dim, times[:, 0], label='dense')\n",
    "plt.loglog(lst_small_dim, times[:, 1], label='Sparse: call')\n",
    "plt.loglog(lst_small_dim, times[:, 2], label='Sparse: @')\n",
    "plt.loglog(lst_small_dim, times[:, 3], label='Sparse: matvec')\n",
    "plt.legend()\n",
    "plt.grid()\n",
    "plt.title('Execution time for computing a matrix-vector product (square case)')\n",
    "plt.ylabel('Running time (s)')\n",
    "plt.xlabel('Data dimension $n$ ($n \\times n$)')"
   ]
  },
  {
   "cell_type": "code",
   "execution_count": null,
   "metadata": {
    "collapsed": true
   },
   "outputs": [],
   "source": [
    "print('Execution time for computing a matrix-vector product (rectangular case)')\n",
    "lst_small_dim = 2**np.arange(8, 13)\n",
    "times = np.empty((len(lst_small_dim), 4))\n",
    "for i, small_dim in enumerate(lst_small_dim):\n",
    "    large_dim = small_dim * 4\n",
    "    print('Dimension:', small_dim, large_dim)\n",
    "    A, P, S = get_data(small_dim=small_dim, \n",
    "                       large_dim=large_dim, \n",
    "                       n_nonzeros_small=2*small_dim, \n",
    "                       n_nonzeros_large=2*large_dim)\n",
    "    x = np.random.randn(large_dim)\n",
    "    t = %timeit -o y = P @ x\n",
    "    times[i, 0] = t.average\n",
    "    t = %timeit -o y = S(x)\n",
    "    times[i, 1] = t.average\n",
    "    t = %timeit -o y = S @ x\n",
    "    times[i, 2] = t.average\n",
    "    t = %timeit -o y = S.matvec(x)\n",
    "    times[i, 3] = t.average"
   ]
  },
  {
   "cell_type": "code",
   "execution_count": null,
   "metadata": {
    "collapsed": true
   },
   "outputs": [],
   "source": [
    "plt.loglog(lst_small_dim, times[:, 0], label='dense')\n",
    "plt.loglog(lst_small_dim, times[:, 1], label='Sparse: call')\n",
    "plt.loglog(lst_small_dim, times[:, 2], label='Sparse: @')\n",
    "plt.loglog(lst_small_dim, times[:, 3], label='Sparse: matvec')\n",
    "plt.legend()\n",
    "plt.grid()\n",
    "plt.title('Execution time for computing a matrix-vector product (rectangular case)')\n",
    "plt.ylabel('Running time (s)')\n",
    "plt.xlabel('Data dimension $n$ ($n \\times 4n$)')"
   ]
  },
  {
   "cell_type": "markdown",
   "metadata": {},
   "source": [
    "# Execution time for computing the spectral norm"
   ]
  },
  {
   "cell_type": "code",
   "execution_count": null,
   "metadata": {
    "collapsed": true
   },
   "outputs": [],
   "source": [
    "print('Execution time for computing the spectral norm (rectangular case)')\n",
    "lst_small_dim = 2**np.arange(8, 13)\n",
    "times = np.empty((len(lst_small_dim), 4))\n",
    "for i, small_dim in enumerate(lst_small_dim):\n",
    "    large_dim = small_dim * 4\n",
    "    print('Dimension:', small_dim, large_dim)\n",
    "    A, P, S = get_data(small_dim=small_dim, \n",
    "                       large_dim=large_dim, \n",
    "                       n_nonzeros_small=2*small_dim, \n",
    "                       n_nonzeros_large=2*large_dim)\n",
    "    SH = S.adjoint()\n",
    "    t = %timeit -o np.linalg.norm(P, ord=2)\n",
    "    times[i, 0] = t.average\n",
    "    t = %timeit -o S.compute_spectral_norm(method='svds')\n",
    "    times[i, 1] = t.average\n",
    "    t = %timeit -o S.compute_spectral_norm(method='eigs')\n",
    "    times[i, 2] = t.average\n",
    "    t = %timeit -o SH.compute_spectral_norm(method='eigs')\n",
    "    times[i, 3] = t.average"
   ]
  },
  {
   "cell_type": "code",
   "execution_count": null,
   "metadata": {
    "collapsed": true
   },
   "outputs": [],
   "source": [
    "plt.loglog(lst_small_dim, times[:, 0], label='dense')\n",
    "plt.loglog(lst_small_dim, times[:, 1], label='Sparse: svds')\n",
    "plt.loglog(lst_small_dim, times[:, 2], label='Sparse: eigs')\n",
    "plt.loglog(lst_small_dim, times[:, 3], label='Sparse (Hermitian): eigs')\n",
    "plt.legend()\n",
    "plt.grid()\n",
    "plt.title('Execution time for computing a matrix-vector product (rectangular case)')\n",
    "plt.ylabel('Running time (s)')\n",
    "plt.xlabel('Data dimension $n$ ($n \\times 4n$)')"
   ]
  },
  {
   "cell_type": "markdown",
   "metadata": {},
   "source": [
    "# Execution time for computing the product"
   ]
  },
  {
   "cell_type": "code",
   "execution_count": null,
   "metadata": {
    "collapsed": true
   },
   "outputs": [],
   "source": [
    "print('Execution time for computing the product')\n",
    "lst_small_dim = 2**np.arange(8, 13)\n",
    "times = np.empty((len(lst_small_dim), 2))\n",
    "for i, small_dim in enumerate(lst_small_dim):\n",
    "    large_dim = small_dim * 4\n",
    "    print('Dimension:', small_dim, large_dim)\n",
    "    A, P, S = get_data(small_dim=small_dim, \n",
    "                       large_dim=large_dim, \n",
    "                       n_nonzeros_small=2*small_dim, \n",
    "                       n_nonzeros_large=2*large_dim)\n",
    "    t = %timeit -o P = np.linalg.multi_dot(A)\n",
    "    times[i, 0] = t.average\n",
    "    t = %timeit -o PP = S.compute_product()\n",
    "    times[i, 1] = t.average"
   ]
  },
  {
   "cell_type": "code",
   "execution_count": null,
   "metadata": {
    "collapsed": true
   },
   "outputs": [],
   "source": [
    "plt.loglog(lst_small_dim, times[:, 0], label='dense')\n",
    "plt.loglog(lst_small_dim, times[:, 1], label='Sparse')\n",
    "plt.legend()\n",
    "plt.grid()\n",
    "plt.title('Execution time for computing the product (rectangular case)')\n",
    "plt.ylabel('Running time (s)')\n",
    "plt.xlabel('Data dimension $n$ ($n \\times 4n$)')"
   ]
  },
  {
   "cell_type": "markdown",
   "metadata": {},
   "source": [
    "# Execution time for `palm4msa`"
   ]
  },
  {
   "cell_type": "code",
   "execution_count": null,
   "metadata": {
    "collapsed": true
   },
   "outputs": [],
   "source": [
    "from pyqalm.qalm import palm4msa, palm4msa_fast1, palm4msa_fast2, palm4msa_fast3\n",
    "from pyqalm.utils import get_lambda_proxsplincol\n"
   ]
  },
  {
   "cell_type": "code",
   "execution_count": null,
   "metadata": {
    "collapsed": true
   },
   "outputs": [],
   "source": [
    "print('Execution time for palm4msa')\n",
    "lst_small_dim = 2**np.arange(7, 12)\n",
    "times = np.empty((len(lst_small_dim), 4))\n",
    "for i, small_dim in enumerate(lst_small_dim):\n",
    "    large_dim = small_dim\n",
    "    X = hadamard(small_dim)\n",
    "    print('Dimension:', small_dim, large_dim)\n",
    "    \n",
    "    d = np.min(X.shape)\n",
    "    if X.shape[1] == d:\n",
    "        X = X.T\n",
    "    nb_factors = int(np.log2(d))\n",
    "    lst_S_init = []\n",
    "    for _ in range(nb_factors - 1):\n",
    "        lst_S_init.append(np.eye(d))\n",
    "    lst_S_init.append(np.zeros(X.shape))\n",
    "\n",
    "    nb_keep_values = 2 * d\n",
    "    nb_values_residual = int(d / 2 ** nb_factors) * d\n",
    "    lst_projection_functions = \\\n",
    "        [get_lambda_proxsplincol(nb_keep_values)] * nb_factors \\\n",
    "        + [get_lambda_proxsplincol(nb_values_residual)]\n",
    "\n",
    "    f_lambda_init = 1\n",
    "    nb_iter = 10\n",
    "    update_right_to_left = True\n",
    "    graphical_display = False\n",
    "    \n",
    "    t = %timeit -o f_lambda_ref, lst_S_ref, arr_X_curr_ref, objective_function_ref, i_iter_ref = \\\n",
    "        palm4msa(X, \\\n",
    "                 lst_S_init=lst_S_init, \\\n",
    "                 nb_factors=nb_factors, \\\n",
    "                 lst_projection_functions=lst_projection_functions, \\\n",
    "                 f_lambda_init=f_lambda_init, \\\n",
    "                 nb_iter=nb_iter, \\\n",
    "                 update_right_to_left=update_right_to_left, \\\n",
    "                 graphical_display=graphical_display)\n",
    "    times[i, 0] = t.average\n",
    "\n",
    "    t = %timeit -o f_lambda, lst_S, arr_X_curr, objective_function, i_iter = \\\n",
    "        palm4msa_fast1(X, \\\n",
    "                       lst_S_init=lst_S_init, \\\n",
    "                       nb_factors=nb_factors, \\\n",
    "                       lst_projection_functions=lst_projection_functions, \\\n",
    "                       f_lambda_init=f_lambda_init, \\\n",
    "                       nb_iter=nb_iter, \\\n",
    "                       update_right_to_left=update_right_to_left, \\\n",
    "                       graphical_display=graphical_display)\n",
    "    times[i, 1] = t.average\n",
    "    \n",
    "    t = %timeit -o f_lambda, lst_S, arr_X_curr, objective_function, i_iter = \\\n",
    "    palm4msa_fast2(X, \\\n",
    "                   lst_S_init=lst_S_init, \\\n",
    "                   nb_factors=nb_factors, \\\n",
    "                   lst_projection_functions=lst_projection_functions, \\\n",
    "                   f_lambda_init=f_lambda_init, \\\n",
    "                   nb_iter=nb_iter, \\\n",
    "                   update_right_to_left=update_right_to_left, \\\n",
    "                   graphical_display=graphical_display)\n",
    "    times[i, 2] = t.average\n",
    "    \n",
    "    t = %timeit -o f_lambda, lst_S, arr_X_curr, i_iter = \\\n",
    "    palm4msa_fast3(X, \\\n",
    "                   lst_S_init=lst_S_init, \\\n",
    "                   nb_factors=nb_factors, \\\n",
    "                   lst_projection_functions=lst_projection_functions, \\\n",
    "                   f_lambda_init=f_lambda_init, \\\n",
    "                   nb_iter=nb_iter, \\\n",
    "                   update_right_to_left=update_right_to_left, \\\n",
    "                   graphical_display=graphical_display)\n",
    "    times[i, 3] = t.average"
   ]
  },
  {
   "cell_type": "code",
   "execution_count": null,
   "metadata": {
    "collapsed": true
   },
   "outputs": [],
   "source": [
    "plt.loglog(lst_small_dim, times[:, 0], label='dense')\n",
    "plt.loglog(lst_small_dim, times[:, 1], label='Sparse 1')\n",
    "plt.loglog(lst_small_dim, times[:, 2], label='Sparse 2')\n",
    "plt.loglog(lst_small_dim, times[:, 3], label='Sparse 3')\n",
    "plt.legend()\n",
    "plt.grid()\n",
    "plt.title('Execution time for palm4msa (hadamard)')\n",
    "plt.ylabel('Running time (s)')\n",
    "plt.xlabel('Data dimension')"
   ]
  },
  {
   "cell_type": "code",
   "execution_count": null,
   "metadata": {
    "collapsed": true
   },
   "outputs": [],
   "source": [
    "print('Execution time for palm4msa with a 70x2000 matrix')\n",
    "times = np.empty(4)\n",
    "small_dim = 70\n",
    "large_dim = 2000\n",
    "X = np.random.randn(small_dim, large_dim)\n",
    "\n",
    "print('Dimension:', small_dim, large_dim)\n",
    "\n",
    "d = np.min(X.shape)\n",
    "if X.shape[1] == d:\n",
    "    X = X.T\n",
    "nb_factors = int(np.log2(d))\n",
    "lst_S_init = []\n",
    "for _ in range(nb_factors - 1):\n",
    "    lst_S_init.append(np.eye(d))\n",
    "lst_S_init.append(np.zeros(X.shape))\n",
    "\n",
    "nb_keep_values = 2 * d\n",
    "nb_values_residual = int(d / 2 ** nb_factors) * d\n",
    "lst_projection_functions = \\\n",
    "    [get_lambda_proxsplincol(nb_keep_values)] * nb_factors \\\n",
    "    + [get_lambda_proxsplincol(nb_values_residual)]\n",
    "\n",
    "f_lambda_init = 1\n",
    "nb_iter = 10\n",
    "update_right_to_left = True\n",
    "graphical_display = False\n",
    "\n",
    "t = %timeit -o f_lambda_ref, lst_S_ref, arr_X_curr_ref, objective_function_ref, i_iter_ref = \\\n",
    "    palm4msa(X, \\\n",
    "             lst_S_init=lst_S_init, \\\n",
    "             nb_factors=nb_factors, \\\n",
    "             lst_projection_functions=lst_projection_functions, \\\n",
    "             f_lambda_init=f_lambda_init, \\\n",
    "             nb_iter=nb_iter, \\\n",
    "             update_right_to_left=update_right_to_left, \\\n",
    "             graphical_display=graphical_display)\n",
    "times[0] = t.average\n",
    "\n",
    "t = %timeit -o f_lambda, lst_S, arr_X_curr, objective_function, i_iter = \\\n",
    "    palm4msa_fast1(X, \\\n",
    "                   lst_S_init=lst_S_init, \\\n",
    "                   nb_factors=nb_factors, \\\n",
    "                   lst_projection_functions=lst_projection_functions, \\\n",
    "                   f_lambda_init=f_lambda_init, \\\n",
    "                   nb_iter=nb_iter, \\\n",
    "                   update_right_to_left=update_right_to_left, \\\n",
    "                   graphical_display=graphical_display)\n",
    "times[1] = t.average\n",
    "\n",
    "t = %timeit -o f_lambda, lst_S, arr_X_curr, objective_function, i_iter = \\\n",
    "    palm4msa_fast2(X, \\\n",
    "                   lst_S_init=lst_S_init, \\\n",
    "                   nb_factors=nb_factors, \\\n",
    "                   lst_projection_functions=lst_projection_functions, \\\n",
    "                   f_lambda_init=f_lambda_init, \\\n",
    "                   nb_iter=nb_iter, \\\n",
    "                   update_right_to_left=update_right_to_left, \\\n",
    "                   graphical_display=graphical_display)\n",
    "times[2] = t.average\n",
    "\n",
    "t = %timeit -o f_lambda, lst_S, arr_X_curr, i_iter = \\\n",
    "    palm4msa_fast3(X, \\\n",
    "                   lst_S_init=lst_S_init, \\\n",
    "                   nb_factors=nb_factors, \\\n",
    "                   lst_projection_functions=lst_projection_functions, \\\n",
    "                   f_lambda_init=f_lambda_init, \\\n",
    "                   nb_iter=nb_iter, \\\n",
    "                   update_right_to_left=update_right_to_left, \\\n",
    "                   graphical_display=graphical_display)\n",
    "times[3] = t.average"
   ]
  },
  {
   "cell_type": "code",
   "execution_count": null,
   "metadata": {
    "collapsed": true
   },
   "outputs": [],
   "source": [
    "print('palm4msa', times[0])\n",
    "print('palm4msa_fast1', times[1])\n",
    "print('palm4msa_fast2', times[2])\n",
    "print('palm4msa_fast3', times[3])"
   ]
  },
  {
   "cell_type": "code",
   "execution_count": null,
   "metadata": {
    "collapsed": true
   },
   "outputs": [],
   "source": []
  }
 ],
 "metadata": {
  "kernelspec": {
   "display_name": "Python 3",
   "language": "python",
   "name": "python3"
  },
  "language_info": {
   "codemirror_mode": {
    "name": "ipython",
    "version": 3
   },
   "file_extension": ".py",
   "mimetype": "text/x-python",
   "name": "python",
   "nbconvert_exporter": "python",
   "pygments_lexer": "ipython3",
   "version": "3.6.2"
  }
 },
 "nbformat": 4,
 "nbformat_minor": 2
}

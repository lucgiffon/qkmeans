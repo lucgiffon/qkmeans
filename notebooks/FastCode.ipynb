{
 "cells": [
  {
   "cell_type": "code",
   "execution_count": null,
   "metadata": {
    "collapsed": true
   },
   "outputs": [],
   "source": [
    "%load_ext autoreload\n",
    "%autoreload 2\n",
    "%matplotlib inline"
   ]
  },
  {
   "cell_type": "code",
   "execution_count": null,
   "metadata": {
    "collapsed": true
   },
   "outputs": [],
   "source": [
    "import numpy as np\n",
    "from numpy.linalg import norm\n",
    "from numpy import trace\n",
    "from numpy import identity\n",
    "from numpy import argpartition\n",
    "from numpy.linalg import multi_dot\n",
    "from scipy.linalg import hadamard\n",
    "from copy import deepcopy\n",
    "\n",
    "import matplotlib.pyplot as plt"
   ]
  },
  {
   "cell_type": "code",
   "execution_count": null,
   "metadata": {
    "collapsed": true
   },
   "outputs": [],
   "source": [
    "from pyqalm.data_structures import SparseFactors\n",
    "from pyqalm.qalm import palm4msa_fast1, PALM4MSA"
   ]
  },
  {
   "cell_type": "code",
   "execution_count": null,
   "metadata": {},
   "outputs": [],
   "source": [
    "def get_data(small_dim=2**10, large_dim=2**11, n_nonzeros_small=None, n_nonzeros_large=None):\n",
    "    if n_nonzeros_small is None:\n",
    "        n_nonzeros_small = 2*small_dim\n",
    "    if n_nonzeros_large is None:\n",
    "        n_nonzeros_large = 2*large_dim\n",
    "    n_factors = int(np.log2(small_dim))\n",
    "    A = []\n",
    "    for _ in range(n_factors - 1):\n",
    "        A.append(np.zeros((small_dim, small_dim)))\n",
    "        A[-1].flat[np.random.choice(small_dim**2, size=n_nonzeros_small)] = np.random.randn(n_nonzeros_small)\n",
    "    A += [np.zeros((small_dim, large_dim))]\n",
    "    A[-1].flat[np.random.choice(small_dim * large_dim, size=n_nonzeros_large)] = np.random.randn(n_nonzeros_large)\n",
    "    P = np.linalg.multi_dot(A)\n",
    "    S = SparseFactors(A)\n",
    "    return A, P, S"
   ]
  },
  {
   "cell_type": "markdown",
   "metadata": {},
   "source": [
    "# Execution time for computing a matrix-vector product"
   ]
  },
  {
   "cell_type": "code",
   "execution_count": null,
   "metadata": {},
   "outputs": [],
   "source": [
    "print('Execution time for computing a matrix-vector product (square case)')\n",
    "lst_small_dim = 2**np.arange(8, 13)\n",
    "times = np.empty((len(lst_small_dim), 4))\n",
    "for i, small_dim in enumerate(lst_small_dim):\n",
    "    large_dim = small_dim\n",
    "    print('Dimension:', small_dim, large_dim)\n",
    "    A, P, S = get_data(small_dim=small_dim, \n",
    "                       large_dim=large_dim, \n",
    "                       n_nonzeros_small=2*small_dim, \n",
    "                       n_nonzeros_large=2*large_dim)\n",
    "    x = np.random.randn(large_dim)\n",
    "    t = %timeit -o y = P @ x\n",
    "    times[i, 0] = t.average\n",
    "    t = %timeit -o y = S(x)\n",
    "    times[i, 1] = t.average\n",
    "    t = %timeit -o y = S @ x\n",
    "    times[i, 2] = t.average\n",
    "    t = %timeit -o y = S.matvec(x)\n",
    "    times[i, 3] = t.average"
   ]
  },
  {
   "cell_type": "code",
   "execution_count": null,
   "metadata": {},
   "outputs": [],
   "source": [
    "plt.loglog(lst_small_dim, times[:, 0], label='dense')\n",
    "plt.loglog(lst_small_dim, times[:, 1], label='Sparse: call')\n",
    "plt.loglog(lst_small_dim, times[:, 2], label='Sparse: @')\n",
    "plt.loglog(lst_small_dim, times[:, 3], label='Sparse: matvec')\n",
    "plt.legend()\n",
    "plt.grid()\n",
    "plt.title('Execution time for computing a matrix-vector product (square case)')"
   ]
  },
  {
   "cell_type": "code",
   "execution_count": null,
   "metadata": {},
   "outputs": [],
   "source": [
    "print('Execution time for computing a matrix-vector product (rectangular case)')\n",
    "lst_small_dim = 2**np.arange(8, 13)\n",
    "times = np.empty((len(lst_small_dim), 4))\n",
    "for i, small_dim in enumerate(lst_small_dim):\n",
    "    large_dim = small_dim * 4\n",
    "    print('Dimension:', small_dim, large_dim)\n",
    "    A, P, S = get_data(small_dim=small_dim, \n",
    "                       large_dim=large_dim, \n",
    "                       n_nonzeros_small=2*small_dim, \n",
    "                       n_nonzeros_large=2*large_dim)\n",
    "    x = np.random.randn(large_dim)\n",
    "    t = %timeit -o y = P @ x\n",
    "    times[i, 0] = t.average\n",
    "    t = %timeit -o y = S(x)\n",
    "    times[i, 1] = t.average\n",
    "    t = %timeit -o y = S @ x\n",
    "    times[i, 2] = t.average\n",
    "    t = %timeit -o y = S.matvec(x)\n",
    "    times[i, 3] = t.average"
   ]
  },
  {
   "cell_type": "code",
   "execution_count": null,
   "metadata": {},
   "outputs": [],
   "source": [
    "plt.loglog(lst_small_dim, times[:, 0], label='dense')\n",
    "plt.loglog(lst_small_dim, times[:, 1], label='Sparse: call')\n",
    "plt.loglog(lst_small_dim, times[:, 2], label='Sparse: @')\n",
    "plt.loglog(lst_small_dim, times[:, 3], label='Sparse: matvec')\n",
    "plt.legend()\n",
    "plt.grid()\n",
    "plt.title('Execution time for computing a matrix-vector product (rectangular case)')"
   ]
  },
  {
   "cell_type": "markdown",
   "metadata": {},
   "source": [
    "# Execution time for computing the spectral norm"
   ]
  },
  {
   "cell_type": "code",
   "execution_count": null,
   "metadata": {
    "collapsed": true
   },
   "outputs": [],
   "source": [
    "from scipy.sparse.linalg import eigs, svds\n",
    "from pyqalm.data_structures import SparseFactors\n",
    "def get_spectral_norm(S, method='svds'):\n",
    "    if method == 'svds':\n",
    "        a = svds(A=S, k=1, return_singular_vectors=False)\n",
    "        return a[0]\n",
    "    elif method == 'eigs':\n",
    "        if S.shape[0] > S.shape[1]:\n",
    "            SS = SparseFactors(S.adjoint().get_list_of_factors() + S.get_list_of_factors())\n",
    "        else:\n",
    "            SS = SparseFactors(S.get_list_of_factors() + S.adjoint().get_list_of_factors())\n",
    "        a = eigs(A=SS, k=1, return_eigenvectors=False)\n",
    "        return np.sqrt(np.real(a[0]))\n",
    "\n",
    "        \n"
   ]
  },
  {
   "cell_type": "code",
   "execution_count": null,
   "metadata": {},
   "outputs": [],
   "source": [
    "small_dim = 32\n",
    "large_dim = small_dim * 4\n",
    "A, P, S = get_data(small_dim=small_dim, \n",
    "                       large_dim=large_dim, \n",
    "                       n_nonzeros_small=2*small_dim, \n",
    "                       n_nonzeros_large=2*large_dim)\n",
    "a = np.linalg.svd(P, compute_uv=False)\n",
    "print(a[0])\n",
    "a = get_spectral_norm(S, method='svds')\n",
    "print(a)\n",
    "a = get_spectral_norm(S, method='eigs')\n",
    "print(a)\n",
    "a = get_spectral_norm(S.transpose(), method='eigs')\n",
    "print(a)\n",
    "\n",
    "print('Square')\n",
    "large_dim = small_dim\n",
    "A, P, S = get_data(small_dim=small_dim, \n",
    "                       large_dim=large_dim, \n",
    "                       n_nonzeros_small=2*small_dim, \n",
    "                       n_nonzeros_large=2*large_dim)\n",
    "print(np.linalg.norm(P, ord=2))\n",
    "a = np.linalg.svd(P, compute_uv=False)\n",
    "print(a[0])\n",
    "a = get_spectral_norm(S, method='svds')\n",
    "print(a)\n",
    "a = get_spectral_norm(S, method='eigs')\n",
    "print(a, np.abs(a), np.abs(a)**2)\n"
   ]
  },
  {
   "cell_type": "code",
   "execution_count": null,
   "metadata": {},
   "outputs": [],
   "source": [
    "print('Execution time for computing the spectral norm (rectangular case)')\n",
    "lst_small_dim = 2**np.arange(8, 13)\n",
    "times = np.empty((len(lst_small_dim), 4))\n",
    "for i, small_dim in enumerate(lst_small_dim):\n",
    "    large_dim = small_dim * 4\n",
    "    print('Dimension:', small_dim, large_dim)\n",
    "    A, P, S = get_data(small_dim=small_dim, \n",
    "                       large_dim=large_dim, \n",
    "                       n_nonzeros_small=2*small_dim, \n",
    "                       n_nonzeros_large=2*large_dim)\n",
    "    SH = S.adjoint()\n",
    "    t = %timeit -o np.linalg.norm(P, ord=2)\n",
    "    times[i, 0] = t.average\n",
    "    t = %timeit -o S.compute_spectral_norm(method='svds')\n",
    "    times[i, 1] = t.average\n",
    "    t = %timeit -o S.compute_spectral_norm(method='eigs')\n",
    "    times[i, 2] = t.average\n",
    "    t = %timeit -o SH.compute_spectral_norm(method='eigs')\n",
    "    times[i, 3] = t.average"
   ]
  },
  {
   "cell_type": "code",
   "execution_count": null,
   "metadata": {},
   "outputs": [],
   "source": [
    "plt.loglog(lst_small_dim, times[:, 0], label='dense')\n",
    "plt.loglog(lst_small_dim, times[:, 1], label='Sparse: svds')\n",
    "plt.loglog(lst_small_dim, times[:, 2], label='Sparse: eigs')\n",
    "plt.loglog(lst_small_dim, times[:, 3], label='Sparse (Hermitian): eigs')\n",
    "plt.legend()\n",
    "plt.grid()\n",
    "plt.title('Execution time for computing a matrix-vector product (square case)')"
   ]
  },
  {
   "cell_type": "markdown",
   "metadata": {},
   "source": [
    "# Execution time for computing the product"
   ]
  },
  {
   "cell_type": "code",
   "execution_count": null,
   "metadata": {},
   "outputs": [],
   "source": [
    "print('Execution time for computing the product')\n",
    "%timeit P = np.linalg.multi_dot(A)\n",
    "%timeit PP = S.compute_product()"
   ]
  },
  {
   "cell_type": "code",
   "execution_count": null,
   "metadata": {},
   "outputs": [],
   "source": []
  },
  {
   "cell_type": "code",
   "execution_count": null,
   "metadata": {
    "collapsed": true
   },
   "outputs": [],
   "source": []
  }
 ],
 "metadata": {
  "kernelspec": {
   "display_name": "Python 3",
   "language": "python",
   "name": "python3"
  },
  "language_info": {
   "codemirror_mode": {
    "name": "ipython",
    "version": 3
   },
   "file_extension": ".py",
   "mimetype": "text/x-python",
   "name": "python",
   "nbconvert_exporter": "python",
   "pygments_lexer": "ipython3",
   "version": "3.6.2"
  }
 },
 "nbformat": 4,
 "nbformat_minor": 2
}
